{
 "cells": [
  {
   "cell_type": "markdown",
   "id": "380246ae",
   "metadata": {},
   "source": [
    "## Задача\n",
    "В этом задании решается задача классификации. Надо классифицировать временные ряды на два класса. Решение содержит анализ предоставленных данных (EDA), процесс построения и проверки гипотез, генерацию признаков из обучающей выборки, обучение модели и предсказание. Модель реализована при помощи библиотеки tensorflow.keras."
   ]
  },
  {
   "cell_type": "markdown",
   "id": "4daf37de",
   "metadata": {},
   "source": [
    "## Загрузка данных"
   ]
  },
  {
   "cell_type": "code",
   "execution_count": 1,
   "id": "318188d7",
   "metadata": {},
   "outputs": [],
   "source": [
    "import pandas as pd\n",
    "import matplotlib.pyplot as plt\n",
    "import numpy as np\n",
    "import seaborn as sns\n",
    "from scipy import stats as st\n",
    "sns.set_theme(rc={'figure.figsize':(9, 6)})\n",
    "pd.options.display.float_format = '{:20,.2f}'.format\n",
    "pd.options.mode.chained_assignment = None\n",
    "from sklearn.model_selection import train_test_split\n",
    "import tensorflow as tf\n",
    "#import keras_tuner as kt\n",
    "from tensorflow import keras\n",
    "from tensorflow.keras import layers\n",
    "from keras import regularizers\n",
    "from keras.callbacks import History\n",
    "from sklearn.utils import class_weight\n",
    "from sklearn.preprocessing import StandardScaler\n",
    "from joblib import dump"
   ]
  },
  {
   "cell_type": "code",
   "execution_count": 2,
   "id": "b70fa0e1",
   "metadata": {},
   "outputs": [],
   "source": [
    "data = pd.read_parquet('train.parquet')"
   ]
  },
  {
   "cell_type": "code",
   "execution_count": 3,
   "id": "f76219b4",
   "metadata": {},
   "outputs": [
    {
     "data": {
      "text/html": [
       "<div>\n",
       "<style scoped>\n",
       "    .dataframe tbody tr th:only-of-type {\n",
       "        vertical-align: middle;\n",
       "    }\n",
       "\n",
       "    .dataframe tbody tr th {\n",
       "        vertical-align: top;\n",
       "    }\n",
       "\n",
       "    .dataframe thead th {\n",
       "        text-align: right;\n",
       "    }\n",
       "</style>\n",
       "<table border=\"1\" class=\"dataframe\">\n",
       "  <thead>\n",
       "    <tr style=\"text-align: right;\">\n",
       "      <th></th>\n",
       "      <th>id</th>\n",
       "      <th>dates</th>\n",
       "      <th>values</th>\n",
       "      <th>label</th>\n",
       "    </tr>\n",
       "  </thead>\n",
       "  <tbody>\n",
       "    <tr>\n",
       "      <th>0</th>\n",
       "      <td>19114</td>\n",
       "      <td>[2016-01-01, 2016-02-01, 2016-03-01, 2016-04-0...</td>\n",
       "      <td>[-1.86, 0.79, 1.4, 0.15, 0.0, -1.24, -1.46, 3....</td>\n",
       "      <td>0.00</td>\n",
       "    </tr>\n",
       "    <tr>\n",
       "      <th>1</th>\n",
       "      <td>22769</td>\n",
       "      <td>[2016-05-01, 2016-06-01, 2016-07-01, 2016-08-0...</td>\n",
       "      <td>[-1.04, -3.48, 0.05, -0.13, -0.01, 0.03, 0.27,...</td>\n",
       "      <td>1.00</td>\n",
       "    </tr>\n",
       "    <tr>\n",
       "      <th>2</th>\n",
       "      <td>76935</td>\n",
       "      <td>[2017-03-01, 2017-04-01, 2017-05-01, 2017-06-0...</td>\n",
       "      <td>[0.28, 0.63, 0.06, 0.96, -1.4, -0.3, 1.62, 1.1...</td>\n",
       "      <td>0.00</td>\n",
       "    </tr>\n",
       "    <tr>\n",
       "      <th>3</th>\n",
       "      <td>66297</td>\n",
       "      <td>[2016-01-01, 2016-02-01, 2016-03-01, 2016-04-0...</td>\n",
       "      <td>[-0.33, 0.58, 1.1, -0.56, -0.95, -0.61, -0.7, ...</td>\n",
       "      <td>0.00</td>\n",
       "    </tr>\n",
       "    <tr>\n",
       "      <th>4</th>\n",
       "      <td>2191</td>\n",
       "      <td>[2016-01-01, 2016-02-01, 2016-03-01, 2016-04-0...</td>\n",
       "      <td>[1.31, 0.5, -0.54, 0.95, 0.65, 0.83, -1.55, -0...</td>\n",
       "      <td>0.00</td>\n",
       "    </tr>\n",
       "  </tbody>\n",
       "</table>\n",
       "</div>"
      ],
      "text/plain": [
       "      id                                              dates  \\\n",
       "0  19114  [2016-01-01, 2016-02-01, 2016-03-01, 2016-04-0...   \n",
       "1  22769  [2016-05-01, 2016-06-01, 2016-07-01, 2016-08-0...   \n",
       "2  76935  [2017-03-01, 2017-04-01, 2017-05-01, 2017-06-0...   \n",
       "3  66297  [2016-01-01, 2016-02-01, 2016-03-01, 2016-04-0...   \n",
       "4   2191  [2016-01-01, 2016-02-01, 2016-03-01, 2016-04-0...   \n",
       "\n",
       "                                              values                label  \n",
       "0  [-1.86, 0.79, 1.4, 0.15, 0.0, -1.24, -1.46, 3....                 0.00  \n",
       "1  [-1.04, -3.48, 0.05, -0.13, -0.01, 0.03, 0.27,...                 1.00  \n",
       "2  [0.28, 0.63, 0.06, 0.96, -1.4, -0.3, 1.62, 1.1...                 0.00  \n",
       "3  [-0.33, 0.58, 1.1, -0.56, -0.95, -0.61, -0.7, ...                 0.00  \n",
       "4  [1.31, 0.5, -0.54, 0.95, 0.65, 0.83, -1.55, -0...                 0.00  "
      ]
     },
     "execution_count": 3,
     "metadata": {},
     "output_type": "execute_result"
    }
   ],
   "source": [
    "data.head()"
   ]
  },
  {
   "cell_type": "code",
   "execution_count": 4,
   "id": "9894f6cb",
   "metadata": {},
   "outputs": [
    {
     "name": "stdout",
     "output_type": "stream",
     "text": [
      "<class 'pandas.core.frame.DataFrame'>\n",
      "RangeIndex: 80000 entries, 0 to 79999\n",
      "Data columns (total 4 columns):\n",
      " #   Column  Non-Null Count  Dtype  \n",
      "---  ------  --------------  -----  \n",
      " 0   id      80000 non-null  int64  \n",
      " 1   dates   80000 non-null  object \n",
      " 2   values  80000 non-null  object \n",
      " 3   label   80000 non-null  float64\n",
      "dtypes: float64(1), int64(1), object(2)\n",
      "memory usage: 2.4+ MB\n"
     ]
    }
   ],
   "source": [
    "data.info()"
   ]
  },
  {
   "cell_type": "code",
   "execution_count": 5,
   "id": "2046ddf9",
   "metadata": {},
   "outputs": [
    {
     "data": {
      "text/html": [
       "<div>\n",
       "<style scoped>\n",
       "    .dataframe tbody tr th:only-of-type {\n",
       "        vertical-align: middle;\n",
       "    }\n",
       "\n",
       "    .dataframe tbody tr th {\n",
       "        vertical-align: top;\n",
       "    }\n",
       "\n",
       "    .dataframe thead th {\n",
       "        text-align: right;\n",
       "    }\n",
       "</style>\n",
       "<table border=\"1\" class=\"dataframe\">\n",
       "  <thead>\n",
       "    <tr style=\"text-align: right;\">\n",
       "      <th></th>\n",
       "      <th>id</th>\n",
       "      <th>label</th>\n",
       "    </tr>\n",
       "  </thead>\n",
       "  <tbody>\n",
       "    <tr>\n",
       "      <th>count</th>\n",
       "      <td>80,000.00</td>\n",
       "      <td>80,000.00</td>\n",
       "    </tr>\n",
       "    <tr>\n",
       "      <th>mean</th>\n",
       "      <td>50,107.89</td>\n",
       "      <td>0.28</td>\n",
       "    </tr>\n",
       "    <tr>\n",
       "      <th>std</th>\n",
       "      <td>28,857.65</td>\n",
       "      <td>0.45</td>\n",
       "    </tr>\n",
       "    <tr>\n",
       "      <th>min</th>\n",
       "      <td>0.00</td>\n",
       "      <td>0.00</td>\n",
       "    </tr>\n",
       "    <tr>\n",
       "      <th>25%</th>\n",
       "      <td>25,122.50</td>\n",
       "      <td>0.00</td>\n",
       "    </tr>\n",
       "    <tr>\n",
       "      <th>50%</th>\n",
       "      <td>50,146.50</td>\n",
       "      <td>0.00</td>\n",
       "    </tr>\n",
       "    <tr>\n",
       "      <th>75%</th>\n",
       "      <td>75,064.25</td>\n",
       "      <td>1.00</td>\n",
       "    </tr>\n",
       "    <tr>\n",
       "      <th>max</th>\n",
       "      <td>99,999.00</td>\n",
       "      <td>1.00</td>\n",
       "    </tr>\n",
       "  </tbody>\n",
       "</table>\n",
       "</div>"
      ],
      "text/plain": [
       "                        id                label\n",
       "count            80,000.00            80,000.00\n",
       "mean             50,107.89                 0.28\n",
       "std              28,857.65                 0.45\n",
       "min                   0.00                 0.00\n",
       "25%              25,122.50                 0.00\n",
       "50%              50,146.50                 0.00\n",
       "75%              75,064.25                 1.00\n",
       "max              99,999.00                 1.00"
      ]
     },
     "execution_count": 5,
     "metadata": {},
     "output_type": "execute_result"
    }
   ],
   "source": [
    "data.describe()"
   ]
  },
  {
   "cell_type": "markdown",
   "id": "ca8cf008",
   "metadata": {},
   "source": [
    "## Работа с данными"
   ]
  },
  {
   "cell_type": "code",
   "execution_count": 9,
   "id": "47af6b5a",
   "metadata": {
    "scrolled": false
   },
   "outputs": [
    {
     "data": {
      "image/png": "[encoded data removed]",
      "text/plain": [
       "<Figure size 900x600 with 1 Axes>"
      ]
     },
     "metadata": {},
     "output_type": "display_data"
    }
   ],
   "source": [
    "data['label'].hist();"
   ]
  },
  {
   "cell_type": "code",
   "execution_count": 10,
   "id": "3726f1ac",
   "metadata": {},
   "outputs": [
    {
     "data": {
      "text/plain": [
       "0.00    57820\n",
       "1.00    22180\n",
       "Name: label, dtype: int64"
      ]
     },
     "execution_count": 10,
     "metadata": {},
     "output_type": "execute_result"
    }
   ],
   "source": [
    "data['label'].value_counts()"
   ]
  },
  {
   "cell_type": "code",
   "execution_count": 11,
   "id": "42325d4b",
   "metadata": {},
   "outputs": [
    {
     "data": {
      "text/plain": [
       "0"
      ]
     },
     "execution_count": 11,
     "metadata": {},
     "output_type": "execute_result"
    }
   ],
   "source": [
    "sum(data['id'].duplicated())"
   ]
  },
  {
   "cell_type": "markdown",
   "id": "380ed8c7",
   "metadata": {},
   "source": [
    "*Дубликатов в поле id в датасете нет. Однако обучающая выборка не сбалансирована, преобладают объекты с классом 0. В таком случае можно уравнять количество представителей классов путем удаления преобладающего или генерацией объектов класса-меньшинства. Также же можно при выборе гиперпараметров модели заранее учесть разный вес классов.*"
   ]
  },
  {
   "cell_type": "markdown",
   "id": "bf4d0898",
   "metadata": {},
   "source": [
    "#### Проверка средних"
   ]
  },
  {
   "cell_type": "code",
   "execution_count": 13,
   "id": "d27939c9",
   "metadata": {},
   "outputs": [
    {
     "data": {
      "text/plain": [
       "-0.310776822615079"
      ]
     },
     "execution_count": 13,
     "metadata": {},
     "output_type": "execute_result"
    }
   ],
   "source": [
    "#class 1\n",
    "np.mean(data.loc[data['id']==22769, 'values'].values[0])"
   ]
  },
  {
   "cell_type": "code",
   "execution_count": 14,
   "id": "ae9ddd9f",
   "metadata": {},
   "outputs": [
    {
     "data": {
      "text/plain": [
       "-0.11255528082269704"
      ]
     },
     "execution_count": 14,
     "metadata": {},
     "output_type": "execute_result"
    }
   ],
   "source": [
    "#class 1\n",
    "np.mean(data.loc[data['id']==36908, 'values'].values[0])"
   ]
  },
  {
   "cell_type": "code",
   "execution_count": 15,
   "id": "b49ebc9f",
   "metadata": {},
   "outputs": [
    {
     "data": {
      "text/plain": [
       "0.02370967741935484"
      ]
     },
     "execution_count": 15,
     "metadata": {},
     "output_type": "execute_result"
    }
   ],
   "source": [
    "#class 0\n",
    "np.mean(data.loc[data['id']==19114, 'values'].values[0])"
   ]
  },
  {
   "cell_type": "code",
   "execution_count": 16,
   "id": "c82928dc",
   "metadata": {},
   "outputs": [
    {
     "data": {
      "text/plain": [
       "-0.07539682539682538"
      ]
     },
     "execution_count": 16,
     "metadata": {},
     "output_type": "execute_result"
    }
   ],
   "source": [
    "#class 0\n",
    "np.mean(data.loc[data['id']==94731, 'values'].values[0])"
   ]
  },
  {
   "cell_type": "code",
   "execution_count": 17,
   "id": "c28792d8",
   "metadata": {},
   "outputs": [
    {
     "data": {
      "text/plain": [
       "0.16381818181818183"
      ]
     },
     "execution_count": 17,
     "metadata": {},
     "output_type": "execute_result"
    }
   ],
   "source": [
    "#class 0\n",
    "np.mean(data.loc[data['id']==71474, 'values'].values[0])"
   ]
  },
  {
   "cell_type": "code",
   "execution_count": 18,
   "id": "833601e3",
   "metadata": {},
   "outputs": [
    {
     "data": {
      "text/plain": [
       "-0.27463539733327336"
      ]
     },
     "execution_count": 18,
     "metadata": {},
     "output_type": "execute_result"
    }
   ],
   "source": [
    "#class 1\n",
    "np.mean(data.loc[data['id']==98870, 'values'].values[0])"
   ]
  },
  {
   "cell_type": "markdown",
   "id": "316418c1",
   "metadata": {},
   "source": [
    "*Возникла идея, что средние значений разных классов могут отличаться. Проверив несколько записей обоих классов, действительно, можно заметить, что среднее у объектов первого класса может быть ниже, чем у нулевого класса. Можно проверить эту гипотезу с помощью статистических тестов.*"
   ]
  },
  {
   "cell_type": "markdown",
   "id": "dfedd76e",
   "metadata": {},
   "source": [
    "### Заполнение пропусков"
   ]
  },
  {
   "cell_type": "code",
   "execution_count": 19,
   "id": "740d432a",
   "metadata": {},
   "outputs": [
    {
     "data": {
      "text/plain": [
       "4582"
      ]
     },
     "execution_count": 19,
     "metadata": {},
     "output_type": "execute_result"
    }
   ],
   "source": [
    "#проверим, есть ли внутри массивов пустые значения\n",
    "n = 0\n",
    "for array in data['values']:\n",
    "    for x in array:\n",
    "        if pd.isna(x):\n",
    "            n+=1\n",
    "n"
   ]
  },
  {
   "cell_type": "code",
   "execution_count": 20,
   "id": "a90d50a5",
   "metadata": {},
   "outputs": [
    {
     "data": {
      "text/plain": [
       "0"
      ]
     },
     "execution_count": 20,
     "metadata": {},
     "output_type": "execute_result"
    }
   ],
   "source": [
    "n = 0\n",
    "for array in data['dates']:\n",
    "    for x in array:\n",
    "        if pd.isna(x):\n",
    "            n+=1\n",
    "n"
   ]
  },
  {
   "cell_type": "code",
   "execution_count": 21,
   "id": "bebb249b",
   "metadata": {},
   "outputs": [
    {
     "data": {
      "text/plain": [
       "0"
      ]
     },
     "execution_count": 21,
     "metadata": {},
     "output_type": "execute_result"
    }
   ],
   "source": [
    "#проверим, нет ли пустых массивов в принципе\n",
    "n = 0\n",
    "for array in data['values']:\n",
    "    if array.any():\n",
    "        pass\n",
    "    else:\n",
    "        n+=1\n",
    "n"
   ]
  },
  {
   "cell_type": "markdown",
   "id": "25776273",
   "metadata": {},
   "source": [
    "Заполним пустые значения средним по конкретному массиву."
   ]
  },
  {
   "cell_type": "code",
   "execution_count": 22,
   "id": "2f2c14b7",
   "metadata": {},
   "outputs": [
    {
     "name": "stderr",
     "output_type": "stream",
     "text": [
      "C:\\Users\\emil_\\AppData\\Local\\Temp\\ipykernel_1488\\965633672.py:1: RuntimeWarning: Mean of empty slice\n",
      "  data['values'] = data['values'].apply(lambda x: np.nan_to_num(x, np.nanmean(x)))\n"
     ]
    }
   ],
   "source": [
    "data['values'] = data['values'].apply(lambda x: np.nan_to_num(x, np.nanmean(x)))"
   ]
  },
  {
   "cell_type": "code",
   "execution_count": 23,
   "id": "a8a80220",
   "metadata": {},
   "outputs": [
    {
     "data": {
      "text/plain": [
       "0"
      ]
     },
     "execution_count": 23,
     "metadata": {},
     "output_type": "execute_result"
    }
   ],
   "source": [
    "n = 0\n",
    "for array in data['values']:\n",
    "    for x in array:\n",
    "        if pd.isna(x):\n",
    "            n+=1\n",
    "n"
   ]
  },
  {
   "cell_type": "markdown",
   "id": "3d0e8f2f",
   "metadata": {},
   "source": [
    "### Распаковка массивов"
   ]
  },
  {
   "cell_type": "code",
   "execution_count": 24,
   "id": "219b44d3",
   "metadata": {},
   "outputs": [
    {
     "name": "stdout",
     "output_type": "stream",
     "text": [
      "36\n",
      "97\n"
     ]
    }
   ],
   "source": [
    "print(min(data['values'].apply(len)))\n",
    "print(max(data['values'].apply(len)))"
   ]
  },
  {
   "cell_type": "code",
   "execution_count": 25,
   "id": "473c756c",
   "metadata": {},
   "outputs": [
    {
     "name": "stdout",
     "output_type": "stream",
     "text": [
      "-7.95\n",
      "9.54\n"
     ]
    }
   ],
   "source": [
    "print(min([min(x) for x in data['values']]))\n",
    "print(max([max(x) for x in data['values']]))"
   ]
  },
  {
   "cell_type": "code",
   "execution_count": 26,
   "id": "a0235d36",
   "metadata": {},
   "outputs": [
    {
     "name": "stdout",
     "output_type": "stream",
     "text": [
      "2016-01-01\n",
      "2024-01-01\n"
     ]
    }
   ],
   "source": [
    "print(min([min(x) for x in data['dates']]))\n",
    "print(max([max(x) for x in data['dates']]))"
   ]
  },
  {
   "cell_type": "markdown",
   "id": "b1b559d0",
   "metadata": {},
   "source": [
    "Размерности массивов не равны, уравняем их добавлением синтетического значения в массивы меньших длин. 0 или -1 использовать не получится, так как они могут встречаться в реальных данных. Выберем значение 50.</br>\n",
    "Также распакуем массивы в колонки, чтобы можно было проанализировать эти данные и затем передать модели."
   ]
  },
  {
   "cell_type": "code",
   "execution_count": 27,
   "id": "9206025a",
   "metadata": {},
   "outputs": [],
   "source": [
    "def array_to_df(arrays, max_len):\n",
    "    #создаем список списков с заполнением\n",
    "    padded_arrays = [np.pad(arr, (0, max_len - len(arr)), 'constant', constant_values=(50)) for arr in arrays]\n",
    "    return pd.DataFrame(padded_arrays)"
   ]
  },
  {
   "cell_type": "code",
   "execution_count": 28,
   "id": "2a61f382",
   "metadata": {},
   "outputs": [],
   "source": [
    "def date_to_column(dates):\n",
    "    min_date = [min(date) for date in dates]\n",
    "    max_date = [max(date) for date in dates]\n",
    "    return min_date, max_date"
   ]
  },
  {
   "cell_type": "code",
   "execution_count": 29,
   "id": "9eb3981f",
   "metadata": {},
   "outputs": [],
   "source": [
    "min_date, max_date = date_to_column(data['dates'])"
   ]
  },
  {
   "cell_type": "code",
   "execution_count": 30,
   "id": "7432e4b6",
   "metadata": {},
   "outputs": [],
   "source": [
    "len_max = max(data['values'].apply(len))\n",
    "values_df = array_to_df(data['values'], len_max)"
   ]
  },
  {
   "cell_type": "code",
   "execution_count": 31,
   "id": "67625162",
   "metadata": {},
   "outputs": [],
   "source": [
    "values_df.columns=['value_'+str(i+1) for i in range(len_max)]"
   ]
  },
  {
   "cell_type": "code",
   "execution_count": 32,
   "id": "4a0b81e5",
   "metadata": {},
   "outputs": [],
   "source": [
    "values_df['id'] = data['id']\n",
    "values_df['label'] = data['label']"
   ]
  },
  {
   "cell_type": "markdown",
   "id": "b7835e6c",
   "metadata": {},
   "source": [
    "## EDA"
   ]
  },
  {
   "cell_type": "code",
   "execution_count": 33,
   "id": "b37446f3",
   "metadata": {},
   "outputs": [],
   "source": [
    "eda_df = data.explode(['dates', 'values'])"
   ]
  },
  {
   "cell_type": "code",
   "execution_count": 34,
   "id": "c97f57ac",
   "metadata": {},
   "outputs": [],
   "source": [
    "eda_df = eda_df.reset_index(drop=True)"
   ]
  },
  {
   "cell_type": "code",
   "execution_count": 35,
   "id": "ba5faa6a",
   "metadata": {},
   "outputs": [
    {
     "data": {
      "text/html": [
       "<div>\n",
       "<style scoped>\n",
       "    .dataframe tbody tr th:only-of-type {\n",
       "        vertical-align: middle;\n",
       "    }\n",
       "\n",
       "    .dataframe tbody tr th {\n",
       "        vertical-align: top;\n",
       "    }\n",
       "\n",
       "    .dataframe thead th {\n",
       "        text-align: right;\n",
       "    }\n",
       "</style>\n",
       "<table border=\"1\" class=\"dataframe\">\n",
       "  <thead>\n",
       "    <tr style=\"text-align: right;\">\n",
       "      <th></th>\n",
       "      <th>id</th>\n",
       "      <th>values</th>\n",
       "      <th>label</th>\n",
       "      <th>year</th>\n",
       "      <th>month</th>\n",
       "    </tr>\n",
       "  </thead>\n",
       "  <tbody>\n",
       "    <tr>\n",
       "      <th>0</th>\n",
       "      <td>19114</td>\n",
       "      <td>-1.86</td>\n",
       "      <td>0.00</td>\n",
       "      <td>2016</td>\n",
       "      <td>1</td>\n",
       "    </tr>\n",
       "    <tr>\n",
       "      <th>1</th>\n",
       "      <td>19114</td>\n",
       "      <td>0.79</td>\n",
       "      <td>0.00</td>\n",
       "      <td>2016</td>\n",
       "      <td>2</td>\n",
       "    </tr>\n",
       "    <tr>\n",
       "      <th>2</th>\n",
       "      <td>19114</td>\n",
       "      <td>1.40</td>\n",
       "      <td>0.00</td>\n",
       "      <td>2016</td>\n",
       "      <td>3</td>\n",
       "    </tr>\n",
       "    <tr>\n",
       "      <th>3</th>\n",
       "      <td>19114</td>\n",
       "      <td>0.15</td>\n",
       "      <td>0.00</td>\n",
       "      <td>2016</td>\n",
       "      <td>4</td>\n",
       "    </tr>\n",
       "    <tr>\n",
       "      <th>4</th>\n",
       "      <td>19114</td>\n",
       "      <td>0.00</td>\n",
       "      <td>0.00</td>\n",
       "      <td>2016</td>\n",
       "      <td>5</td>\n",
       "    </tr>\n",
       "  </tbody>\n",
       "</table>\n",
       "</div>"
      ],
      "text/plain": [
       "      id               values                label  year  month\n",
       "0  19114                -1.86                 0.00  2016      1\n",
       "1  19114                 0.79                 0.00  2016      2\n",
       "2  19114                 1.40                 0.00  2016      3\n",
       "3  19114                 0.15                 0.00  2016      4\n",
       "4  19114                 0.00                 0.00  2016      5"
      ]
     },
     "execution_count": 35,
     "metadata": {},
     "output_type": "execute_result"
    }
   ],
   "source": [
    "eda_df['year'] = pd.to_datetime(eda_df['dates']).dt.year\n",
    "eda_df['month'] = pd.to_datetime(eda_df['dates']).dt.month\n",
    "eda_df = eda_df.drop(columns=['dates'])\n",
    "eda_df.head()"
   ]
  },
  {
   "cell_type": "code",
   "execution_count": 36,
   "id": "be3158b6",
   "metadata": {},
   "outputs": [],
   "source": [
    "eda_df['values'] = eda_df['values'].astype('float')"
   ]
  },
  {
   "cell_type": "code",
   "execution_count": 37,
   "id": "37bea9e2",
   "metadata": {},
   "outputs": [
    {
     "data": {
      "text/html": [
       "<div>\n",
       "<style scoped>\n",
       "    .dataframe tbody tr th:only-of-type {\n",
       "        vertical-align: middle;\n",
       "    }\n",
       "\n",
       "    .dataframe tbody tr th {\n",
       "        vertical-align: top;\n",
       "    }\n",
       "\n",
       "    .dataframe thead th {\n",
       "        text-align: right;\n",
       "    }\n",
       "</style>\n",
       "<table border=\"1\" class=\"dataframe\">\n",
       "  <thead>\n",
       "    <tr style=\"text-align: right;\">\n",
       "      <th></th>\n",
       "      <th>id</th>\n",
       "      <th>values</th>\n",
       "      <th>label</th>\n",
       "      <th>year</th>\n",
       "      <th>month</th>\n",
       "    </tr>\n",
       "  </thead>\n",
       "  <tbody>\n",
       "    <tr>\n",
       "      <th>count</th>\n",
       "      <td>5,155,412.00</td>\n",
       "      <td>5,155,412.00</td>\n",
       "      <td>5,155,412.00</td>\n",
       "      <td>5,155,412.00</td>\n",
       "      <td>5,155,412.00</td>\n",
       "    </tr>\n",
       "    <tr>\n",
       "      <th>mean</th>\n",
       "      <td>50,108.53</td>\n",
       "      <td>-0.03</td>\n",
       "      <td>0.27</td>\n",
       "      <td>2,018.73</td>\n",
       "      <td>6.38</td>\n",
       "    </tr>\n",
       "    <tr>\n",
       "      <th>std</th>\n",
       "      <td>28,865.00</td>\n",
       "      <td>1.22</td>\n",
       "      <td>0.45</td>\n",
       "      <td>1.86</td>\n",
       "      <td>3.44</td>\n",
       "    </tr>\n",
       "    <tr>\n",
       "      <th>min</th>\n",
       "      <td>0.00</td>\n",
       "      <td>-7.95</td>\n",
       "      <td>0.00</td>\n",
       "      <td>2,016.00</td>\n",
       "      <td>1.00</td>\n",
       "    </tr>\n",
       "    <tr>\n",
       "      <th>25%</th>\n",
       "      <td>25,105.75</td>\n",
       "      <td>-0.84</td>\n",
       "      <td>0.00</td>\n",
       "      <td>2,017.00</td>\n",
       "      <td>3.00</td>\n",
       "    </tr>\n",
       "    <tr>\n",
       "      <th>50%</th>\n",
       "      <td>50,149.00</td>\n",
       "      <td>-0.12</td>\n",
       "      <td>0.00</td>\n",
       "      <td>2,019.00</td>\n",
       "      <td>6.00</td>\n",
       "    </tr>\n",
       "    <tr>\n",
       "      <th>75%</th>\n",
       "      <td>75,067.00</td>\n",
       "      <td>0.76</td>\n",
       "      <td>1.00</td>\n",
       "      <td>2,020.00</td>\n",
       "      <td>9.00</td>\n",
       "    </tr>\n",
       "    <tr>\n",
       "      <th>max</th>\n",
       "      <td>99,999.00</td>\n",
       "      <td>9.54</td>\n",
       "      <td>1.00</td>\n",
       "      <td>2,024.00</td>\n",
       "      <td>12.00</td>\n",
       "    </tr>\n",
       "  </tbody>\n",
       "</table>\n",
       "</div>"
      ],
      "text/plain": [
       "                        id               values                label  \\\n",
       "count         5,155,412.00         5,155,412.00         5,155,412.00   \n",
       "mean             50,108.53                -0.03                 0.27   \n",
       "std              28,865.00                 1.22                 0.45   \n",
       "min                   0.00                -7.95                 0.00   \n",
       "25%              25,105.75                -0.84                 0.00   \n",
       "50%              50,149.00                -0.12                 0.00   \n",
       "75%              75,067.00                 0.76                 1.00   \n",
       "max              99,999.00                 9.54                 1.00   \n",
       "\n",
       "                      year                month  \n",
       "count         5,155,412.00         5,155,412.00  \n",
       "mean              2,018.73                 6.38  \n",
       "std                   1.86                 3.44  \n",
       "min               2,016.00                 1.00  \n",
       "25%               2,017.00                 3.00  \n",
       "50%               2,019.00                 6.00  \n",
       "75%               2,020.00                 9.00  \n",
       "max               2,024.00                12.00  "
      ]
     },
     "execution_count": 37,
     "metadata": {},
     "output_type": "execute_result"
    }
   ],
   "source": [
    "eda_df.describe()"
   ]
  },
  {
   "cell_type": "code",
   "execution_count": 38,
   "id": "2889d7c4",
   "metadata": {},
   "outputs": [
    {
     "data": {
      "text/html": [
       "<div>\n",
       "<style scoped>\n",
       "    .dataframe tbody tr th:only-of-type {\n",
       "        vertical-align: middle;\n",
       "    }\n",
       "\n",
       "    .dataframe tbody tr th {\n",
       "        vertical-align: top;\n",
       "    }\n",
       "\n",
       "    .dataframe thead th {\n",
       "        text-align: right;\n",
       "    }\n",
       "</style>\n",
       "<table border=\"1\" class=\"dataframe\">\n",
       "  <thead>\n",
       "    <tr style=\"text-align: right;\">\n",
       "      <th></th>\n",
       "      <th>id</th>\n",
       "      <th>values</th>\n",
       "      <th>label</th>\n",
       "      <th>year</th>\n",
       "      <th>month</th>\n",
       "    </tr>\n",
       "  </thead>\n",
       "  <tbody>\n",
       "    <tr>\n",
       "      <th>count</th>\n",
       "      <td>3,743,582.00</td>\n",
       "      <td>3,743,582.00</td>\n",
       "      <td>3,743,582.00</td>\n",
       "      <td>3,743,582.00</td>\n",
       "      <td>3,743,582.00</td>\n",
       "    </tr>\n",
       "    <tr>\n",
       "      <th>mean</th>\n",
       "      <td>50,070.59</td>\n",
       "      <td>0.00</td>\n",
       "      <td>0.00</td>\n",
       "      <td>2,018.75</td>\n",
       "      <td>6.38</td>\n",
       "    </tr>\n",
       "    <tr>\n",
       "      <th>std</th>\n",
       "      <td>28,847.45</td>\n",
       "      <td>1.22</td>\n",
       "      <td>0.00</td>\n",
       "      <td>1.87</td>\n",
       "      <td>3.44</td>\n",
       "    </tr>\n",
       "    <tr>\n",
       "      <th>min</th>\n",
       "      <td>0.00</td>\n",
       "      <td>-7.48</td>\n",
       "      <td>0.00</td>\n",
       "      <td>2,016.00</td>\n",
       "      <td>1.00</td>\n",
       "    </tr>\n",
       "    <tr>\n",
       "      <th>25%</th>\n",
       "      <td>24,974.00</td>\n",
       "      <td>-0.81</td>\n",
       "      <td>0.00</td>\n",
       "      <td>2,017.00</td>\n",
       "      <td>3.00</td>\n",
       "    </tr>\n",
       "    <tr>\n",
       "      <th>50%</th>\n",
       "      <td>50,184.00</td>\n",
       "      <td>-0.08</td>\n",
       "      <td>0.00</td>\n",
       "      <td>2,019.00</td>\n",
       "      <td>6.00</td>\n",
       "    </tr>\n",
       "    <tr>\n",
       "      <th>75%</th>\n",
       "      <td>74,958.00</td>\n",
       "      <td>0.79</td>\n",
       "      <td>0.00</td>\n",
       "      <td>2,020.00</td>\n",
       "      <td>9.00</td>\n",
       "    </tr>\n",
       "    <tr>\n",
       "      <th>max</th>\n",
       "      <td>99,997.00</td>\n",
       "      <td>9.27</td>\n",
       "      <td>0.00</td>\n",
       "      <td>2,024.00</td>\n",
       "      <td>12.00</td>\n",
       "    </tr>\n",
       "  </tbody>\n",
       "</table>\n",
       "</div>"
      ],
      "text/plain": [
       "                        id               values                label  \\\n",
       "count         3,743,582.00         3,743,582.00         3,743,582.00   \n",
       "mean             50,070.59                 0.00                 0.00   \n",
       "std              28,847.45                 1.22                 0.00   \n",
       "min                   0.00                -7.48                 0.00   \n",
       "25%              24,974.00                -0.81                 0.00   \n",
       "50%              50,184.00                -0.08                 0.00   \n",
       "75%              74,958.00                 0.79                 0.00   \n",
       "max              99,997.00                 9.27                 0.00   \n",
       "\n",
       "                      year                month  \n",
       "count         3,743,582.00         3,743,582.00  \n",
       "mean              2,018.75                 6.38  \n",
       "std                   1.87                 3.44  \n",
       "min               2,016.00                 1.00  \n",
       "25%               2,017.00                 3.00  \n",
       "50%               2,019.00                 6.00  \n",
       "75%               2,020.00                 9.00  \n",
       "max               2,024.00                12.00  "
      ]
     },
     "execution_count": 38,
     "metadata": {},
     "output_type": "execute_result"
    }
   ],
   "source": [
    "eda_df[eda_df['label']==0].describe()"
   ]
  },
  {
   "cell_type": "code",
   "execution_count": 39,
   "id": "c6aecfc9",
   "metadata": {},
   "outputs": [
    {
     "data": {
      "text/html": [
       "<div>\n",
       "<style scoped>\n",
       "    .dataframe tbody tr th:only-of-type {\n",
       "        vertical-align: middle;\n",
       "    }\n",
       "\n",
       "    .dataframe tbody tr th {\n",
       "        vertical-align: top;\n",
       "    }\n",
       "\n",
       "    .dataframe thead th {\n",
       "        text-align: right;\n",
       "    }\n",
       "</style>\n",
       "<table border=\"1\" class=\"dataframe\">\n",
       "  <thead>\n",
       "    <tr style=\"text-align: right;\">\n",
       "      <th></th>\n",
       "      <th>id</th>\n",
       "      <th>values</th>\n",
       "      <th>label</th>\n",
       "      <th>year</th>\n",
       "      <th>month</th>\n",
       "    </tr>\n",
       "  </thead>\n",
       "  <tbody>\n",
       "    <tr>\n",
       "      <th>count</th>\n",
       "      <td>1,411,830.00</td>\n",
       "      <td>1,411,830.00</td>\n",
       "      <td>1,411,830.00</td>\n",
       "      <td>1,411,830.00</td>\n",
       "      <td>1,411,830.00</td>\n",
       "    </tr>\n",
       "    <tr>\n",
       "      <th>mean</th>\n",
       "      <td>50,209.12</td>\n",
       "      <td>-0.11</td>\n",
       "      <td>1.00</td>\n",
       "      <td>2,018.69</td>\n",
       "      <td>6.39</td>\n",
       "    </tr>\n",
       "    <tr>\n",
       "      <th>std</th>\n",
       "      <td>28,911.27</td>\n",
       "      <td>1.24</td>\n",
       "      <td>0.00</td>\n",
       "      <td>1.84</td>\n",
       "      <td>3.44</td>\n",
       "    </tr>\n",
       "    <tr>\n",
       "      <th>min</th>\n",
       "      <td>5.00</td>\n",
       "      <td>-7.95</td>\n",
       "      <td>1.00</td>\n",
       "      <td>2,016.00</td>\n",
       "      <td>1.00</td>\n",
       "    </tr>\n",
       "    <tr>\n",
       "      <th>25%</th>\n",
       "      <td>25,430.00</td>\n",
       "      <td>-0.91</td>\n",
       "      <td>1.00</td>\n",
       "      <td>2,017.00</td>\n",
       "      <td>3.00</td>\n",
       "    </tr>\n",
       "    <tr>\n",
       "      <th>50%</th>\n",
       "      <td>50,018.00</td>\n",
       "      <td>-0.20</td>\n",
       "      <td>1.00</td>\n",
       "      <td>2,019.00</td>\n",
       "      <td>6.00</td>\n",
       "    </tr>\n",
       "    <tr>\n",
       "      <th>75%</th>\n",
       "      <td>75,358.00</td>\n",
       "      <td>0.68</td>\n",
       "      <td>1.00</td>\n",
       "      <td>2,020.00</td>\n",
       "      <td>9.00</td>\n",
       "    </tr>\n",
       "    <tr>\n",
       "      <th>max</th>\n",
       "      <td>99,999.00</td>\n",
       "      <td>9.54</td>\n",
       "      <td>1.00</td>\n",
       "      <td>2,024.00</td>\n",
       "      <td>12.00</td>\n",
       "    </tr>\n",
       "  </tbody>\n",
       "</table>\n",
       "</div>"
      ],
      "text/plain": [
       "                        id               values                label  \\\n",
       "count         1,411,830.00         1,411,830.00         1,411,830.00   \n",
       "mean             50,209.12                -0.11                 1.00   \n",
       "std              28,911.27                 1.24                 0.00   \n",
       "min                   5.00                -7.95                 1.00   \n",
       "25%              25,430.00                -0.91                 1.00   \n",
       "50%              50,018.00                -0.20                 1.00   \n",
       "75%              75,358.00                 0.68                 1.00   \n",
       "max              99,999.00                 9.54                 1.00   \n",
       "\n",
       "                      year                month  \n",
       "count         1,411,830.00         1,411,830.00  \n",
       "mean              2,018.69                 6.39  \n",
       "std                   1.84                 3.44  \n",
       "min               2,016.00                 1.00  \n",
       "25%               2,017.00                 3.00  \n",
       "50%               2,019.00                 6.00  \n",
       "75%               2,020.00                 9.00  \n",
       "max               2,024.00                12.00  "
      ]
     },
     "execution_count": 39,
     "metadata": {},
     "output_type": "execute_result"
    }
   ],
   "source": [
    "eda_df[eda_df['label']==1].describe()"
   ]
  },
  {
   "cell_type": "markdown",
   "id": "e6606c77",
   "metadata": {},
   "source": [
    "Статистические показатели действительно отличаются. Стоит провести статистический тест, чтобы понять наверняка, есть ли между классами статистическая разница. Также видно, что в поле values есть выбросы, если считать таковыми значения, выходящие за \"3 сигмы\", причем отличаются они сильно. Чтобы не терять данные, заменим такие значения перцентилем."
   ]
  },
  {
   "cell_type": "markdown",
   "id": "13591e1d",
   "metadata": {},
   "source": [
    "### Замена выбросов"
   ]
  },
  {
   "cell_type": "code",
   "execution_count": 40,
   "id": "8d8f86a4",
   "metadata": {},
   "outputs": [],
   "source": [
    "label_zero = eda_df[eda_df['label']==0]\n",
    "label_one = eda_df[eda_df['label']==1]"
   ]
  },
  {
   "cell_type": "code",
   "execution_count": 41,
   "id": "30b4086c",
   "metadata": {},
   "outputs": [],
   "source": [
    "lower_zero = label_zero['values'].quantile(0.01)\n",
    "higher_zero = label_zero['values'].quantile(0.99)\n",
    "lower_one = label_one['values'].quantile(0.01)\n",
    "higher_one = label_one['values'].quantile(0.99)"
   ]
  },
  {
   "cell_type": "code",
   "execution_count": 42,
   "id": "5d19a586",
   "metadata": {},
   "outputs": [],
   "source": [
    "values_df[values_df[values_df['label']==0].filter(regex='value')[values_df!=50]<lower_zero] = lower_zero\n",
    "values_df[values_df[values_df['label']==0].filter(regex='value')[values_df!=50]>higher_zero] = higher_zero\n",
    "values_df[values_df[values_df['label']==1].filter(regex='value')[values_df!=50]<lower_one] = lower_one\n",
    "values_df[values_df[values_df['label']==1].filter(regex='value')[values_df!=50]>higher_one] = higher_one"
   ]
  },
  {
   "cell_type": "markdown",
   "id": "0a23d2a0",
   "metadata": {},
   "source": [
    "#### eda dfs"
   ]
  },
  {
   "cell_type": "code",
   "execution_count": 43,
   "id": "fc2e5d60",
   "metadata": {},
   "outputs": [],
   "source": [
    "label_zero.loc[label_zero['values']<lower_zero, 'values'] = lower_zero\n",
    "label_zero.loc[label_zero['values']>higher_zero, 'values'] = higher_zero\n",
    "label_one.loc[label_one['values']<lower_one, 'values'] = lower_one\n",
    "label_one.loc[label_one['values']>higher_one, 'values'] = higher_one"
   ]
  },
  {
   "cell_type": "code",
   "execution_count": 44,
   "id": "ae0c3ff9",
   "metadata": {},
   "outputs": [
    {
     "data": {
      "text/html": [
       "<div>\n",
       "<style scoped>\n",
       "    .dataframe tbody tr th:only-of-type {\n",
       "        vertical-align: middle;\n",
       "    }\n",
       "\n",
       "    .dataframe tbody tr th {\n",
       "        vertical-align: top;\n",
       "    }\n",
       "\n",
       "    .dataframe thead th {\n",
       "        text-align: right;\n",
       "    }\n",
       "</style>\n",
       "<table border=\"1\" class=\"dataframe\">\n",
       "  <thead>\n",
       "    <tr style=\"text-align: right;\">\n",
       "      <th></th>\n",
       "      <th>id</th>\n",
       "      <th>values</th>\n",
       "      <th>label</th>\n",
       "      <th>year</th>\n",
       "      <th>month</th>\n",
       "    </tr>\n",
       "  </thead>\n",
       "  <tbody>\n",
       "    <tr>\n",
       "      <th>count</th>\n",
       "      <td>3,743,582.00</td>\n",
       "      <td>3,743,582.00</td>\n",
       "      <td>3,743,582.00</td>\n",
       "      <td>3,743,582.00</td>\n",
       "      <td>3,743,582.00</td>\n",
       "    </tr>\n",
       "    <tr>\n",
       "      <th>mean</th>\n",
       "      <td>50,070.59</td>\n",
       "      <td>-0.00</td>\n",
       "      <td>0.00</td>\n",
       "      <td>2,018.75</td>\n",
       "      <td>6.38</td>\n",
       "    </tr>\n",
       "    <tr>\n",
       "      <th>std</th>\n",
       "      <td>28,847.45</td>\n",
       "      <td>1.19</td>\n",
       "      <td>0.00</td>\n",
       "      <td>1.87</td>\n",
       "      <td>3.44</td>\n",
       "    </tr>\n",
       "    <tr>\n",
       "      <th>min</th>\n",
       "      <td>0.00</td>\n",
       "      <td>-2.72</td>\n",
       "      <td>0.00</td>\n",
       "      <td>2,016.00</td>\n",
       "      <td>1.00</td>\n",
       "    </tr>\n",
       "    <tr>\n",
       "      <th>25%</th>\n",
       "      <td>24,974.00</td>\n",
       "      <td>-0.81</td>\n",
       "      <td>0.00</td>\n",
       "      <td>2,017.00</td>\n",
       "      <td>3.00</td>\n",
       "    </tr>\n",
       "    <tr>\n",
       "      <th>50%</th>\n",
       "      <td>50,184.00</td>\n",
       "      <td>-0.08</td>\n",
       "      <td>0.00</td>\n",
       "      <td>2,019.00</td>\n",
       "      <td>6.00</td>\n",
       "    </tr>\n",
       "    <tr>\n",
       "      <th>75%</th>\n",
       "      <td>74,958.00</td>\n",
       "      <td>0.79</td>\n",
       "      <td>0.00</td>\n",
       "      <td>2,020.00</td>\n",
       "      <td>9.00</td>\n",
       "    </tr>\n",
       "    <tr>\n",
       "      <th>max</th>\n",
       "      <td>99,997.00</td>\n",
       "      <td>3.00</td>\n",
       "      <td>0.00</td>\n",
       "      <td>2,024.00</td>\n",
       "      <td>12.00</td>\n",
       "    </tr>\n",
       "  </tbody>\n",
       "</table>\n",
       "</div>"
      ],
      "text/plain": [
       "                        id               values                label  \\\n",
       "count         3,743,582.00         3,743,582.00         3,743,582.00   \n",
       "mean             50,070.59                -0.00                 0.00   \n",
       "std              28,847.45                 1.19                 0.00   \n",
       "min                   0.00                -2.72                 0.00   \n",
       "25%              24,974.00                -0.81                 0.00   \n",
       "50%              50,184.00                -0.08                 0.00   \n",
       "75%              74,958.00                 0.79                 0.00   \n",
       "max              99,997.00                 3.00                 0.00   \n",
       "\n",
       "                      year                month  \n",
       "count         3,743,582.00         3,743,582.00  \n",
       "mean              2,018.75                 6.38  \n",
       "std                   1.87                 3.44  \n",
       "min               2,016.00                 1.00  \n",
       "25%               2,017.00                 3.00  \n",
       "50%               2,019.00                 6.00  \n",
       "75%               2,020.00                 9.00  \n",
       "max               2,024.00                12.00  "
      ]
     },
     "execution_count": 44,
     "metadata": {},
     "output_type": "execute_result"
    }
   ],
   "source": [
    "label_zero.describe()"
   ]
  },
  {
   "cell_type": "code",
   "execution_count": 45,
   "id": "8a9f36b3",
   "metadata": {},
   "outputs": [
    {
     "data": {
      "text/html": [
       "<div>\n",
       "<style scoped>\n",
       "    .dataframe tbody tr th:only-of-type {\n",
       "        vertical-align: middle;\n",
       "    }\n",
       "\n",
       "    .dataframe tbody tr th {\n",
       "        vertical-align: top;\n",
       "    }\n",
       "\n",
       "    .dataframe thead th {\n",
       "        text-align: right;\n",
       "    }\n",
       "</style>\n",
       "<table border=\"1\" class=\"dataframe\">\n",
       "  <thead>\n",
       "    <tr style=\"text-align: right;\">\n",
       "      <th></th>\n",
       "      <th>id</th>\n",
       "      <th>values</th>\n",
       "      <th>label</th>\n",
       "      <th>year</th>\n",
       "      <th>month</th>\n",
       "    </tr>\n",
       "  </thead>\n",
       "  <tbody>\n",
       "    <tr>\n",
       "      <th>count</th>\n",
       "      <td>1,411,830.00</td>\n",
       "      <td>1,411,830.00</td>\n",
       "      <td>1,411,830.00</td>\n",
       "      <td>1,411,830.00</td>\n",
       "      <td>1,411,830.00</td>\n",
       "    </tr>\n",
       "    <tr>\n",
       "      <th>mean</th>\n",
       "      <td>50,209.12</td>\n",
       "      <td>-0.11</td>\n",
       "      <td>1.00</td>\n",
       "      <td>2,018.69</td>\n",
       "      <td>6.39</td>\n",
       "    </tr>\n",
       "    <tr>\n",
       "      <th>std</th>\n",
       "      <td>28,911.27</td>\n",
       "      <td>1.20</td>\n",
       "      <td>0.00</td>\n",
       "      <td>1.84</td>\n",
       "      <td>3.44</td>\n",
       "    </tr>\n",
       "    <tr>\n",
       "      <th>min</th>\n",
       "      <td>5.00</td>\n",
       "      <td>-2.93</td>\n",
       "      <td>1.00</td>\n",
       "      <td>2,016.00</td>\n",
       "      <td>1.00</td>\n",
       "    </tr>\n",
       "    <tr>\n",
       "      <th>25%</th>\n",
       "      <td>25,430.00</td>\n",
       "      <td>-0.91</td>\n",
       "      <td>1.00</td>\n",
       "      <td>2,017.00</td>\n",
       "      <td>3.00</td>\n",
       "    </tr>\n",
       "    <tr>\n",
       "      <th>50%</th>\n",
       "      <td>50,018.00</td>\n",
       "      <td>-0.20</td>\n",
       "      <td>1.00</td>\n",
       "      <td>2,019.00</td>\n",
       "      <td>6.00</td>\n",
       "    </tr>\n",
       "    <tr>\n",
       "      <th>75%</th>\n",
       "      <td>75,358.00</td>\n",
       "      <td>0.68</td>\n",
       "      <td>1.00</td>\n",
       "      <td>2,020.00</td>\n",
       "      <td>9.00</td>\n",
       "    </tr>\n",
       "    <tr>\n",
       "      <th>max</th>\n",
       "      <td>99,999.00</td>\n",
       "      <td>2.98</td>\n",
       "      <td>1.00</td>\n",
       "      <td>2,024.00</td>\n",
       "      <td>12.00</td>\n",
       "    </tr>\n",
       "  </tbody>\n",
       "</table>\n",
       "</div>"
      ],
      "text/plain": [
       "                        id               values                label  \\\n",
       "count         1,411,830.00         1,411,830.00         1,411,830.00   \n",
       "mean             50,209.12                -0.11                 1.00   \n",
       "std              28,911.27                 1.20                 0.00   \n",
       "min                   5.00                -2.93                 1.00   \n",
       "25%              25,430.00                -0.91                 1.00   \n",
       "50%              50,018.00                -0.20                 1.00   \n",
       "75%              75,358.00                 0.68                 1.00   \n",
       "max              99,999.00                 2.98                 1.00   \n",
       "\n",
       "                      year                month  \n",
       "count         1,411,830.00         1,411,830.00  \n",
       "mean              2,018.69                 6.39  \n",
       "std                   1.84                 3.44  \n",
       "min               2,016.00                 1.00  \n",
       "25%               2,017.00                 3.00  \n",
       "50%               2,019.00                 6.00  \n",
       "75%               2,020.00                 9.00  \n",
       "max               2,024.00                12.00  "
      ]
     },
     "execution_count": 45,
     "metadata": {},
     "output_type": "execute_result"
    }
   ],
   "source": [
    "label_one.describe()"
   ]
  },
  {
   "cell_type": "markdown",
   "id": "ce832a22",
   "metadata": {},
   "source": [
    "### Проверка гипотез"
   ]
  },
  {
   "cell_type": "markdown",
   "id": "3f14ab71",
   "metadata": {},
   "source": [
    "#### Гипотеза о статистической разности значений между классами"
   ]
  },
  {
   "cell_type": "markdown",
   "id": "b16ffcae",
   "metadata": {},
   "source": [
    "H0: нет статистической разницы;</br>\n",
    "H1: статистическая разница есть."
   ]
  },
  {
   "cell_type": "code",
   "execution_count": 46,
   "id": "aaadd4c1",
   "metadata": {},
   "outputs": [
    {
     "data": {
      "image/png": "[encoded data removed]",
      "text/plain": [
       "<Figure size 900x600 with 1 Axes>"
      ]
     },
     "metadata": {},
     "output_type": "display_data"
    }
   ],
   "source": [
    "label_zero['values'].hist();"
   ]
  },
  {
   "cell_type": "code",
   "execution_count": 47,
   "id": "d4c3a451",
   "metadata": {},
   "outputs": [
    {
     "data": {
      "image/png": "[encoded data removed]",
      "text/plain": [
       "<Figure size 900x600 with 1 Axes>"
      ]
     },
     "metadata": {},
     "output_type": "display_data"
    }
   ],
   "source": [
    "label_one['values'].hist();"
   ]
  },
  {
   "cell_type": "markdown",
   "id": "0a53b2dc",
   "metadata": {},
   "source": [
    "Распределение близко к нормальному. Используем t-тест и тест Манна-Уитни."
   ]
  },
  {
   "cell_type": "markdown",
   "id": "222bd2a7",
   "metadata": {},
   "source": [
    "#### t-тест"
   ]
  },
  {
   "cell_type": "code",
   "execution_count": 48,
   "id": "cb9319d4",
   "metadata": {},
   "outputs": [
    {
     "name": "stdout",
     "output_type": "stream",
     "text": [
      "p-значение равно: 0.0\n",
      "Отвергаем нулевую гипотезу\n"
     ]
    }
   ],
   "source": [
    "alpha = .05\n",
    "result = st.ttest_ind(label_zero['values'], label_one['values'])\n",
    "print('p-значение равно:', result.pvalue)\n",
    "if result.pvalue < alpha:\n",
    "    print('Отвергаем нулевую гипотезу')\n",
    "else:\n",
    "    print('Не получилось отвергнуть нулевую гипотезу')"
   ]
  },
  {
   "cell_type": "markdown",
   "id": "dbc27b16",
   "metadata": {},
   "source": [
    "#### Тест Манна-Уитни"
   ]
  },
  {
   "cell_type": "code",
   "execution_count": 49,
   "id": "ea37ddf8",
   "metadata": {},
   "outputs": [
    {
     "name": "stdout",
     "output_type": "stream",
     "text": [
      "p-значение равно: 0.0\n",
      "Отвергаем нулевую гипотезу\n"
     ]
    }
   ],
   "source": [
    "result = st.mannwhitneyu(label_zero['values'], label_one['values'])\n",
    "print('p-значение равно:', result.pvalue)\n",
    "if result.pvalue < alpha:\n",
    "    print('Отвергаем нулевую гипотезу')\n",
    "else:\n",
    "    print('Не получилось отвергнуть нулевую гипотезу')"
   ]
  },
  {
   "cell_type": "markdown",
   "id": "22cb2eba",
   "metadata": {},
   "source": [
    "Судя по всему, между классами действительно есть статистическая разница."
   ]
  },
  {
   "cell_type": "markdown",
   "id": "46ea3672",
   "metadata": {},
   "source": [
    "#### Гипотеза о разности длин последовательностей между классами"
   ]
  },
  {
   "cell_type": "markdown",
   "id": "b0ee826a",
   "metadata": {},
   "source": [
    "H0: нет статистической разницы;</br>\n",
    "H1: статистическая разница есть."
   ]
  },
  {
   "cell_type": "code",
   "execution_count": 50,
   "id": "9534b007",
   "metadata": {},
   "outputs": [],
   "source": [
    "len_zero = label_zero.groupby('id')['id'].count()\n",
    "len_one = label_one.groupby('id')['id'].count()"
   ]
  },
  {
   "cell_type": "markdown",
   "id": "39ad32ce",
   "metadata": {},
   "source": [
    "#### t-тест"
   ]
  },
  {
   "cell_type": "code",
   "execution_count": 51,
   "id": "6c0c74a8",
   "metadata": {},
   "outputs": [
    {
     "name": "stdout",
     "output_type": "stream",
     "text": [
      "p-значение равно: 2.665074730572474e-19\n",
      "Отвергаем нулевую гипотезу\n"
     ]
    }
   ],
   "source": [
    "result = st.ttest_ind(len_zero, len_one)\n",
    "print('p-значение равно:', result.pvalue)\n",
    "if result.pvalue < alpha:\n",
    "    print('Отвергаем нулевую гипотезу')\n",
    "else:\n",
    "    print('Не получилось отвергнуть нулевую гипотезу')"
   ]
  },
  {
   "cell_type": "markdown",
   "id": "89ca14ec",
   "metadata": {},
   "source": [
    "#### Тест Манна-Уитни"
   ]
  },
  {
   "cell_type": "code",
   "execution_count": 52,
   "id": "8990272a",
   "metadata": {},
   "outputs": [
    {
     "name": "stdout",
     "output_type": "stream",
     "text": [
      "p-значение равно: 3.742179382585712e-17\n",
      "Отвергаем нулевую гипотезу\n"
     ]
    }
   ],
   "source": [
    "result = st.mannwhitneyu(len_zero, len_one)\n",
    "print('p-значение равно:', result.pvalue)\n",
    "if result.pvalue < alpha:\n",
    "    print('Отвергаем нулевую гипотезу')\n",
    "else:\n",
    "    print('Не получилось отвергнуть нулевую гипотезу')"
   ]
  },
  {
   "cell_type": "code",
   "execution_count": 53,
   "id": "d8d238b3",
   "metadata": {},
   "outputs": [
    {
     "name": "stdout",
     "output_type": "stream",
     "text": [
      "64.74545140089934\n",
      "63.653291253381425\n"
     ]
    }
   ],
   "source": [
    "print(len_zero.mean())\n",
    "print(len_one.mean())"
   ]
  },
  {
   "cell_type": "markdown",
   "id": "a5978860",
   "metadata": {},
   "source": [
    "Согласно тестам, классы также имеют разные длины последовательностей. Учтем это при сборке признаков."
   ]
  },
  {
   "cell_type": "markdown",
   "id": "584433ab",
   "metadata": {},
   "source": [
    "### Анализ сезонности"
   ]
  },
  {
   "cell_type": "code",
   "execution_count": 54,
   "id": "b6e0397e",
   "metadata": {},
   "outputs": [
    {
     "data": {
      "image/png": "[encoded data removed]",
      "text/plain": [
       "<Figure size 900x600 with 1 Axes>"
      ]
     },
     "metadata": {},
     "output_type": "display_data"
    }
   ],
   "source": [
    "plt.plot(label_zero.groupby('year')['values'].mean())\n",
    "plt.title('Среднее значение с группировкой по годам для класса 0')\n",
    "plt.xlabel('Год')\n",
    "plt.ylabel('Среднее значение');"
   ]
  },
  {
   "cell_type": "code",
   "execution_count": 55,
   "id": "9a2764af",
   "metadata": {},
   "outputs": [
    {
     "data": {
      "image/png": "[encoded data removed]",
      "text/plain": [
       "<Figure size 900x600 with 1 Axes>"
      ]
     },
     "metadata": {},
     "output_type": "display_data"
    }
   ],
   "source": [
    "plt.plot(label_one.groupby('year')['values'].mean())\n",
    "plt.title('Среднее значение с группировкой по годам для класса 1')\n",
    "plt.xlabel('Год')\n",
    "plt.ylabel('Среднее значение');"
   ]
  },
  {
   "cell_type": "code",
   "execution_count": 56,
   "id": "8711569d",
   "metadata": {},
   "outputs": [
    {
     "data": {
      "image/png": "[encoded data removed]",
      "text/plain": [
       "<Figure size 900x600 with 1 Axes>"
      ]
     },
     "metadata": {},
     "output_type": "display_data"
    }
   ],
   "source": [
    "plt.plot(label_zero.groupby('month')['values'].mean())\n",
    "plt.title('Среднее значение с группировкой по месяцам для класса 0')\n",
    "plt.xlabel('Месяц')\n",
    "plt.ylabel('Среднее значение');"
   ]
  },
  {
   "cell_type": "code",
   "execution_count": 57,
   "id": "e5f0fd27",
   "metadata": {},
   "outputs": [
    {
     "data": {
      "image/png": "[encoded data removed]",
      "text/plain": [
       "<Figure size 900x600 with 1 Axes>"
      ]
     },
     "metadata": {},
     "output_type": "display_data"
    }
   ],
   "source": [
    "plt.plot(label_one.groupby('month')['values'].mean())\n",
    "plt.title('Среднее значение с группировкой по месяцам для класса 1')\n",
    "plt.xlabel('Месяц')\n",
    "plt.ylabel('Среднее значение');"
   ]
  },
  {
   "cell_type": "markdown",
   "id": "7fb55914",
   "metadata": {},
   "source": [
    "По месяцам большой разницы между классами не видно, разве что сами значения в среднем чуть больше у класса 0, однако она явно прослеживается в разрезе по годам: классы сильно отличаются и в средних значениях, и в тренде, что дополнительно указывает на то, что между классами есть серьёзная разница."
   ]
  },
  {
   "cell_type": "markdown",
   "id": "7331337c",
   "metadata": {},
   "source": [
    "#### Гистограмма плотности"
   ]
  },
  {
   "cell_type": "code",
   "execution_count": 58,
   "id": "c11b6411",
   "metadata": {},
   "outputs": [
    {
     "data": {
      "image/png": "[encoded data removed]",
      "text/plain": [
       "<Figure size 900x600 with 1 Axes>"
      ]
     },
     "metadata": {},
     "output_type": "display_data"
    }
   ],
   "source": [
    "sns.histplot(eda_df, x='year', hue='label', stat='density', common_norm=False)\n",
    "plt.title('Нормализованная гистограмма плотности количества объектов разных классов в разрезе годов')\n",
    "plt.xlabel('Года')\n",
    "plt.ylabel('Плотность');"
   ]
  },
  {
   "cell_type": "markdown",
   "id": "e54580f3",
   "metadata": {},
   "source": [
    "По гистограмме трудно сделать вывод, что плотность двух классов в разрезе по годам как-то заметно отличается, хоть небольшая тенденция и есть: в ранние годы плотность у класса 1 выше, но затем класс 0 вырывается вперед. Но все-таки если разбить датасет по временной отметке, то пропорции классов в тренировочной и валидационной выборках будут примерно одинаковыми."
   ]
  },
  {
   "cell_type": "markdown",
   "id": "a2f95d1f",
   "metadata": {},
   "source": [
    "### Корреляция признаков с целевой переменной"
   ]
  },
  {
   "cell_type": "code",
   "execution_count": 59,
   "id": "edde345f",
   "metadata": {},
   "outputs": [],
   "source": [
    "corr_df = values_df[values_df!=50].corr()"
   ]
  },
  {
   "cell_type": "code",
   "execution_count": 60,
   "id": "ae4029fd",
   "metadata": {},
   "outputs": [
    {
     "name": "stdout",
     "output_type": "stream",
     "text": [
      "                        label\n",
      "value_94                -0.36\n",
      "value_95                -0.35\n",
      "value_93                -0.35\n",
      "value_92                -0.33\n",
      "value_89                -0.32\n",
      "value_91                -0.31\n",
      "value_96                -0.30\n",
      "value_90                -0.30\n",
      "value_88                -0.29\n",
      "value_87                -0.28\n",
      "value_85                -0.28\n",
      "value_86                -0.28\n",
      "value_97                -0.26\n",
      "value_84                -0.26\n",
      "value_83                -0.25\n",
      "value_81                -0.23\n",
      "value_82                -0.23\n",
      "value_80                -0.20\n",
      "value_76                -0.20\n",
      "value_74                -0.19\n",
      "value_78                -0.19\n",
      "value_77                -0.19\n",
      "value_72                -0.19\n",
      "value_73                -0.19\n",
      "value_75                -0.19\n",
      "value_79                -0.19\n",
      "value_71                -0.18\n",
      "value_70                -0.17\n",
      "value_69                -0.16\n",
      "value_68                -0.15\n",
      "value_58                -0.14\n",
      "value_60                -0.14\n",
      "value_57                -0.14\n",
      "value_62                -0.14\n",
      "value_59                -0.13\n",
      "value_67                -0.13\n",
      "value_61                -0.13\n",
      "value_66                -0.13\n",
      "value_63                -0.13\n",
      "value_65                -0.13\n",
      "value_64                -0.12\n",
      "value_56                -0.12\n",
      "value_55                -0.11\n",
      "value_49                -0.11\n",
      "value_48                -0.11\n",
      "value_46                -0.11\n",
      "value_54                -0.11\n",
      "value_47                -0.10\n",
      "value_50                -0.10\n",
      "value_53                -0.10\n",
      "value_51                -0.10\n",
      "value_52                -0.10\n",
      "value_45                -0.08\n",
      "value_44                -0.06\n",
      "value_43                -0.06\n",
      "value_42                -0.05\n",
      "value_41                -0.05\n",
      "value_40                -0.04\n",
      "value_36                -0.04\n",
      "value_35                -0.04\n",
      "value_38                -0.04\n",
      "value_39                -0.03\n",
      "value_37                -0.03\n",
      "value_34                -0.03\n",
      "value_33                -0.01\n",
      "value_32                -0.01\n",
      "id                       0.00\n",
      "value_22                 0.00\n",
      "value_26                 0.00\n",
      "value_23                 0.00\n",
      "value_25                 0.00\n",
      "value_24                 0.00\n",
      "value_31                 0.01\n",
      "value_30                 0.01\n",
      "value_12                 0.01\n",
      "value_28                 0.01\n",
      "value_11                 0.01\n",
      "value_27                 0.01\n",
      "value_9                  0.01\n",
      "value_29                 0.01\n",
      "value_21                 0.01\n",
      "value_14                 0.02\n",
      "value_10                 0.02\n",
      "value_13                 0.02\n",
      "value_18                 0.02\n",
      "value_17                 0.02\n",
      "value_15                 0.02\n",
      "value_16                 0.02\n",
      "value_20                 0.02\n",
      "value_8                  0.02\n",
      "value_19                 0.03\n",
      "value_2                  0.03\n",
      "value_7                  0.03\n",
      "value_6                  0.03\n",
      "value_4                  0.04\n",
      "value_5                  0.04\n",
      "value_3                  0.04\n",
      "value_1                  0.04\n",
      "label                    1.00\n"
     ]
    }
   ],
   "source": [
    "with pd.option_context('display.max_rows', None, 'display.max_columns', None):\n",
    "    print(corr_df.loc[:, ['label']].sort_values(by='label'))"
   ]
  },
  {
   "cell_type": "markdown",
   "id": "d210d1dc",
   "metadata": {},
   "source": [
    "Интересный момент: более поздние признаки сильнее коррелируют с целевой переменной, чем ранние. Возможно, это связано с тем, что более поздних признаков просто меньше и еще получается как-то прослеживать линейную связь."
   ]
  },
  {
   "cell_type": "markdown",
   "id": "91953d37",
   "metadata": {},
   "source": [
    "## Подготовка датасетов для обучения"
   ]
  },
  {
   "cell_type": "code",
   "execution_count": 61,
   "id": "d2add37a",
   "metadata": {},
   "outputs": [],
   "source": [
    "mean = values_df.drop(columns=['label', 'id'])[values_df!=50].mean(axis=1)\n",
    "std = values_df.drop(columns=['label', 'id'])[values_df!=50].std(axis=1)\n",
    "median = values_df.drop(columns=['label', 'id'])[values_df!=50].median(axis=1)\n",
    "\n",
    "new_df = pd.DataFrame()\n",
    "new_df['mean'] = mean\n",
    "new_df['std'] = std\n",
    "new_df['median'] = median\n",
    "new_df['min_date'] = min_date\n",
    "new_df['max_date'] = max_date\n",
    "new_df['label'] = data['label']"
   ]
  },
  {
   "cell_type": "code",
   "execution_count": 62,
   "id": "37f6371c",
   "metadata": {},
   "outputs": [
    {
     "data": {
      "text/html": [
       "<div>\n",
       "<style scoped>\n",
       "    .dataframe tbody tr th:only-of-type {\n",
       "        vertical-align: middle;\n",
       "    }\n",
       "\n",
       "    .dataframe tbody tr th {\n",
       "        vertical-align: top;\n",
       "    }\n",
       "\n",
       "    .dataframe thead th {\n",
       "        text-align: right;\n",
       "    }\n",
       "</style>\n",
       "<table border=\"1\" class=\"dataframe\">\n",
       "  <thead>\n",
       "    <tr style=\"text-align: right;\">\n",
       "      <th></th>\n",
       "      <th>mean</th>\n",
       "      <th>std</th>\n",
       "      <th>median</th>\n",
       "      <th>min_date</th>\n",
       "      <th>max_date</th>\n",
       "      <th>label</th>\n",
       "    </tr>\n",
       "  </thead>\n",
       "  <tbody>\n",
       "    <tr>\n",
       "      <th>0</th>\n",
       "      <td>0.05</td>\n",
       "      <td>1.23</td>\n",
       "      <td>-0.11</td>\n",
       "      <td>2016-01-01</td>\n",
       "      <td>2021-02-01</td>\n",
       "      <td>0.00</td>\n",
       "    </tr>\n",
       "    <tr>\n",
       "      <th>1</th>\n",
       "      <td>-0.28</td>\n",
       "      <td>1.52</td>\n",
       "      <td>-0.27</td>\n",
       "      <td>2016-05-01</td>\n",
       "      <td>2020-01-01</td>\n",
       "      <td>1.00</td>\n",
       "    </tr>\n",
       "    <tr>\n",
       "      <th>2</th>\n",
       "      <td>-0.05</td>\n",
       "      <td>1.08</td>\n",
       "      <td>-0.15</td>\n",
       "      <td>2017-03-01</td>\n",
       "      <td>2021-02-01</td>\n",
       "      <td>0.00</td>\n",
       "    </tr>\n",
       "    <tr>\n",
       "      <th>3</th>\n",
       "      <td>-0.13</td>\n",
       "      <td>1.17</td>\n",
       "      <td>-0.34</td>\n",
       "      <td>2016-01-01</td>\n",
       "      <td>2019-12-01</td>\n",
       "      <td>0.00</td>\n",
       "    </tr>\n",
       "    <tr>\n",
       "      <th>4</th>\n",
       "      <td>-0.27</td>\n",
       "      <td>1.28</td>\n",
       "      <td>-0.47</td>\n",
       "      <td>2016-01-01</td>\n",
       "      <td>2020-08-01</td>\n",
       "      <td>0.00</td>\n",
       "    </tr>\n",
       "  </tbody>\n",
       "</table>\n",
       "</div>"
      ],
      "text/plain": [
       "                  mean                  std               median    min_date  \\\n",
       "0                 0.05                 1.23                -0.11  2016-01-01   \n",
       "1                -0.28                 1.52                -0.27  2016-05-01   \n",
       "2                -0.05                 1.08                -0.15  2017-03-01   \n",
       "3                -0.13                 1.17                -0.34  2016-01-01   \n",
       "4                -0.27                 1.28                -0.47  2016-01-01   \n",
       "\n",
       "     max_date                label  \n",
       "0  2021-02-01                 0.00  \n",
       "1  2020-01-01                 1.00  \n",
       "2  2021-02-01                 0.00  \n",
       "3  2019-12-01                 0.00  \n",
       "4  2020-08-01                 0.00  "
      ]
     },
     "execution_count": 62,
     "metadata": {},
     "output_type": "execute_result"
    }
   ],
   "source": [
    "new_df.head()"
   ]
  },
  {
   "cell_type": "code",
   "execution_count": 63,
   "id": "76b44558",
   "metadata": {},
   "outputs": [],
   "source": [
    "#кодирование даты\n",
    "new_df['left_year'] = pd.to_datetime(new_df['min_date']).dt.year\n",
    "new_df['left_month'] = pd.to_datetime(new_df['min_date']).dt.month\n",
    "new_df['right_year'] = pd.to_datetime(new_df['max_date']).dt.year\n",
    "new_df['right_month'] = pd.to_datetime(new_df['max_date']).dt.month\n",
    "\n",
    "new_df['length'] = ((new_df['max_date'] - new_df['min_date']) / np.timedelta64(1, 'M')).astype(int)\n",
    "\n",
    "years_count = (max(new_df['right_year']) - min(new_df['left_year'])) + 1\n",
    "new_df['left_year'] = years_count - (max(new_df['right_year']) - new_df['left_year'])\n",
    "new_df['right_year'] = years_count - (max(new_df['right_year']) - new_df['right_year'])"
   ]
  },
  {
   "cell_type": "code",
   "execution_count": 64,
   "id": "067ae1ad",
   "metadata": {},
   "outputs": [],
   "source": [
    "new_df = new_df.drop(columns=['min_date', 'max_date'])"
   ]
  },
  {
   "cell_type": "code",
   "execution_count": 65,
   "id": "841b0745",
   "metadata": {},
   "outputs": [],
   "source": [
    "new_df = new_df.sort_values(by=['left_year', 'left_month', 'right_year', 'right_month'])"
   ]
  },
  {
   "cell_type": "code",
   "execution_count": 66,
   "id": "2a966fd1",
   "metadata": {},
   "outputs": [
    {
     "data": {
      "text/html": [
       "<div>\n",
       "<style scoped>\n",
       "    .dataframe tbody tr th:only-of-type {\n",
       "        vertical-align: middle;\n",
       "    }\n",
       "\n",
       "    .dataframe tbody tr th {\n",
       "        vertical-align: top;\n",
       "    }\n",
       "\n",
       "    .dataframe thead th {\n",
       "        text-align: right;\n",
       "    }\n",
       "</style>\n",
       "<table border=\"1\" class=\"dataframe\">\n",
       "  <thead>\n",
       "    <tr style=\"text-align: right;\">\n",
       "      <th></th>\n",
       "      <th>mean</th>\n",
       "      <th>std</th>\n",
       "      <th>median</th>\n",
       "      <th>label</th>\n",
       "      <th>left_year</th>\n",
       "      <th>left_month</th>\n",
       "      <th>right_year</th>\n",
       "      <th>right_month</th>\n",
       "      <th>length</th>\n",
       "    </tr>\n",
       "  </thead>\n",
       "  <tbody>\n",
       "    <tr>\n",
       "      <th>3</th>\n",
       "      <td>-0.13</td>\n",
       "      <td>1.17</td>\n",
       "      <td>-0.34</td>\n",
       "      <td>0.00</td>\n",
       "      <td>1</td>\n",
       "      <td>1</td>\n",
       "      <td>4</td>\n",
       "      <td>12</td>\n",
       "      <td>46</td>\n",
       "    </tr>\n",
       "    <tr>\n",
       "      <th>215</th>\n",
       "      <td>-0.21</td>\n",
       "      <td>1.23</td>\n",
       "      <td>-0.27</td>\n",
       "      <td>1.00</td>\n",
       "      <td>1</td>\n",
       "      <td>1</td>\n",
       "      <td>4</td>\n",
       "      <td>12</td>\n",
       "      <td>46</td>\n",
       "    </tr>\n",
       "    <tr>\n",
       "      <th>226</th>\n",
       "      <td>0.02</td>\n",
       "      <td>1.10</td>\n",
       "      <td>-0.29</td>\n",
       "      <td>0.00</td>\n",
       "      <td>1</td>\n",
       "      <td>1</td>\n",
       "      <td>4</td>\n",
       "      <td>12</td>\n",
       "      <td>46</td>\n",
       "    </tr>\n",
       "    <tr>\n",
       "      <th>274</th>\n",
       "      <td>0.01</td>\n",
       "      <td>1.30</td>\n",
       "      <td>0.21</td>\n",
       "      <td>0.00</td>\n",
       "      <td>1</td>\n",
       "      <td>1</td>\n",
       "      <td>4</td>\n",
       "      <td>12</td>\n",
       "      <td>46</td>\n",
       "    </tr>\n",
       "    <tr>\n",
       "      <th>281</th>\n",
       "      <td>-0.11</td>\n",
       "      <td>1.22</td>\n",
       "      <td>0.08</td>\n",
       "      <td>0.00</td>\n",
       "      <td>1</td>\n",
       "      <td>1</td>\n",
       "      <td>4</td>\n",
       "      <td>12</td>\n",
       "      <td>46</td>\n",
       "    </tr>\n",
       "  </tbody>\n",
       "</table>\n",
       "</div>"
      ],
      "text/plain": [
       "                    mean                  std               median  \\\n",
       "3                  -0.13                 1.17                -0.34   \n",
       "215                -0.21                 1.23                -0.27   \n",
       "226                 0.02                 1.10                -0.29   \n",
       "274                 0.01                 1.30                 0.21   \n",
       "281                -0.11                 1.22                 0.08   \n",
       "\n",
       "                   label  left_year  left_month  right_year  right_month  \\\n",
       "3                   0.00          1           1           4           12   \n",
       "215                 1.00          1           1           4           12   \n",
       "226                 0.00          1           1           4           12   \n",
       "274                 0.00          1           1           4           12   \n",
       "281                 0.00          1           1           4           12   \n",
       "\n",
       "     length  \n",
       "3        46  \n",
       "215      46  \n",
       "226      46  \n",
       "274      46  \n",
       "281      46  "
      ]
     },
     "execution_count": 66,
     "metadata": {},
     "output_type": "execute_result"
    }
   ],
   "source": [
    "new_df.head()"
   ]
  },
  {
   "cell_type": "code",
   "execution_count": 67,
   "id": "139e2af7",
   "metadata": {},
   "outputs": [],
   "source": [
    "X_train = new_df[:60000].drop(columns=['label'])\n",
    "y_train = new_df[:60000]['label']\n",
    "\n",
    "# X_val = new_df[40000:60000].drop(columns=['label'])\n",
    "# y_val = new_df[40000:60000]['label']\n",
    "\n",
    "X_test = new_df[60000:80000].drop(columns=['label'])\n",
    "y_test = new_df[60000:80000]['label']"
   ]
  },
  {
   "cell_type": "code",
   "execution_count": 68,
   "id": "233788b3",
   "metadata": {},
   "outputs": [],
   "source": [
    "scaler = StandardScaler()\n",
    "\n",
    "X_train_st = scaler.fit_transform(X_train)\n",
    "#X_val_st = scaler.transform(X_val)\n",
    "X_test_st = scaler.transform(X_test)\n",
    "\n",
    "dump(scaler, 'std_scaler.bin', compress=True)"
   ]
  },
  {
   "cell_type": "code",
   "execution_count": 69,
   "id": "d7dd851a",
   "metadata": {},
   "outputs": [
    {
     "name": "stdout",
     "output_type": "stream",
     "text": [
      "(60000, 8)\n",
      "(60000,)\n",
      "(20000, 8)\n",
      "(20000,)\n"
     ]
    }
   ],
   "source": [
    "print(X_train_st.shape)\n",
    "print(y_train.shape)\n",
    "# print(X_val_st.shape)\n",
    "# print(y_val.shape)\n",
    "print(X_test_st.shape)\n",
    "print(y_test.shape)"
   ]
  },
  {
   "cell_type": "code",
   "execution_count": 70,
   "id": "9de95dc5",
   "metadata": {},
   "outputs": [],
   "source": [
    "class_weight = class_weight.compute_class_weight('balanced', classes=np.unique(y_train), y=y_train)"
   ]
  },
  {
   "cell_type": "code",
   "execution_count": 71,
   "id": "f214ba96",
   "metadata": {},
   "outputs": [],
   "source": [
    "class_weight = {0: class_weight[0], 1: class_weight[1]}"
   ]
  },
  {
   "cell_type": "markdown",
   "id": "15b80925",
   "metadata": {},
   "source": [
    "## Сборка модели"
   ]
  },
  {
   "cell_type": "markdown",
   "id": "dfc713fd",
   "metadata": {},
   "source": [
    "Так как данные являются последовательностями данных, наиболее подходящая архитектура - LSTM. Однако в процессе проведение тестов оказалось, что перцептрон показывает лучшие результаты. Для реализации использована библиотека tensorflow.keras, одна из самых популярных и богатых библиотек машинного обучения. Также встроенные инструменты, такие как маскирующий слой для игнорирования определенных значений и задание весов каждому классу целевой переменной для несбалансированных выборок поможет с имеющимся датасетом. Кроме того, получилось довольно много признаков, корреляция между которыми не исследована, поэтому дополнительно понадобится добавить регуляризацию."
   ]
  },
  {
   "cell_type": "code",
   "execution_count": 72,
   "id": "6430f701",
   "metadata": {},
   "outputs": [],
   "source": [
    "callbacks = [\n",
    "    keras.callbacks.EarlyStopping(monitor='val_loss', patience=3),\n",
    "    keras.callbacks.ModelCheckpoint('./checkpoint/modelcp.keras', monitor='val_loss', save_best_only=True)\n",
    "]"
   ]
  },
  {
   "cell_type": "code",
   "execution_count": 73,
   "id": "7dd88dae",
   "metadata": {},
   "outputs": [
    {
     "name": "stdout",
     "output_type": "stream",
     "text": [
      "Epoch 1/20\n",
      "3750/3750 [==============================] - 8s 2ms/step - loss: 0.6698 - auc: 0.8093 - val_loss: 0.5425 - val_auc: 0.8202\n",
      "Epoch 2/20\n",
      "3750/3750 [==============================] - 7s 2ms/step - loss: 0.5349 - auc: 0.8172 - val_loss: 0.6966 - val_auc: 0.8251\n",
      "Epoch 3/20\n",
      "3750/3750 [==============================] - 7s 2ms/step - loss: 0.5314 - auc: 0.8192 - val_loss: 0.6306 - val_auc: 0.8337\n",
      "Epoch 4/20\n",
      "3750/3750 [==============================] - 7s 2ms/step - loss: 0.5304 - auc: 0.8194 - val_loss: 0.5803 - val_auc: 0.8227\n"
     ]
    }
   ],
   "source": [
    "model = keras.Sequential([\n",
    "    layers.Dense(\n",
    "        128,\n",
    "        activation='relu',\n",
    "    ),\n",
    "    layers.Dense(\n",
    "        64,\n",
    "        activation='relu',\n",
    "        kernel_regularizer=regularizers.l2(0.1)\n",
    "    ),\n",
    "    layers.Dense(1, activation='sigmoid')\n",
    "])\n",
    "model.compile(\n",
    "    optimizer='adam',\n",
    "    loss='binary_crossentropy',\n",
    "    metrics=[keras.metrics.AUC()]\n",
    ")\n",
    "\n",
    "model.fit(\n",
    "    X_train_st, \n",
    "    y_train, \n",
    "    epochs=20, \n",
    "    validation_data=(X_test_st, y_test),\n",
    "    class_weight=class_weight,\n",
    "    callbacks=callbacks,\n",
    "    batch_size=16\n",
    ");"
   ]
  },
  {
   "cell_type": "code",
   "execution_count": 74,
   "id": "ff06d63c",
   "metadata": {},
   "outputs": [
    {
     "name": "stdout",
     "output_type": "stream",
     "text": [
      "625/625 [==============================] - 1s 1ms/step - loss: 0.5803 - auc: 0.8227\n"
     ]
    },
    {
     "data": {
      "text/plain": [
       "[0.580308198928833, 0.8226550817489624]"
      ]
     },
     "execution_count": 74,
     "metadata": {},
     "output_type": "execute_result"
    }
   ],
   "source": [
    "model.evaluate(X_test_st, y_test)"
   ]
  },
  {
   "cell_type": "code",
   "execution_count": 75,
   "id": "35df60c0",
   "metadata": {},
   "outputs": [],
   "source": [
    "model.save('mlp_model.h5')"
   ]
  }
 ],
 "metadata": {
  "kernelspec": {
   "display_name": "Python 3 (ipykernel)",
   "language": "python",
   "name": "python3"
  },
  "language_info": {
   "codemirror_mode": {
    "name": "ipython",
    "version": 3
   },
   "file_extension": ".py",
   "mimetype": "text/x-python",
   "name": "python",
   "nbconvert_exporter": "python",
   "pygments_lexer": "ipython3",
   "version": "3.9.20"
  }
 },
 "nbformat": 4,
 "nbformat_minor": 5
}
